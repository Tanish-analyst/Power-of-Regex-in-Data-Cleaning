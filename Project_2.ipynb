{
 "cells": [
  {
   "cell_type": "code",
   "execution_count": 25,
   "id": "9fb2e46b-6e66-4fba-a2ac-0cef59429411",
   "metadata": {},
   "outputs": [
    {
     "name": "stdout",
     "output_type": "stream",
     "text": [
      "  Unnamed: 1              Unnamed: 2                 Unnamed: 3 Unnamed: 4    Unnamed: 5   Unnamed: 6        Unnamed: 7\n",
      "0        NaN                     NaN                        NaN        NaN           NaN          NaN               NaN\n",
      "1       Date                SalesRep                    Product      Units         Price  Total Sales              City\n",
      "2   1/1/2013     Isabel  Cross (903)      Nestle Aero Mint Potz       400%  495.00000000         1980       Ranchi_East\n",
      "3   1/2/2013  Cecilia  Manning (403)     Nestle Smarties Pop-Up       200%  438.00000000          876  Trivandrum_South\n",
      "4   1/2/2013     Isabel  Cross (705)      Nestle Maxibon Cookie       100%  426.00000000          426       Ranchi_East\n"
     ]
    }
   ],
   "source": [
    "import pandas as pd\n",
    "import matplotlib.pyplot as plt\n",
    "import seaborn as sns\n",
    "df=pd.read_csv(\"E:\\\\datasets\\\\uncleaned_data.csv\")\n",
    "print(df.head().to_string())"
   ]
  },
  {
   "cell_type": "code",
   "execution_count": 26,
   "id": "5139570c-498c-4b44-b1e6-e3625c3797b9",
   "metadata": {},
   "outputs": [
    {
     "name": "stdout",
     "output_type": "stream",
     "text": [
      "  Unnamed: 1              Unnamed: 2                   Unnamed: 3 Unnamed: 4    Unnamed: 5 Unnamed: 6        Unnamed: 7\n",
      "2   1/1/2013     Isabel  Cross (903)        Nestle Aero Mint Potz       400%  495.00000000       1980       Ranchi_East\n",
      "3   1/2/2013  Cecilia  Manning (403)       Nestle Smarties Pop-Up       200%  438.00000000        876  Trivandrum_South\n",
      "4   1/2/2013     Isabel  Cross (705)        Nestle Maxibon Cookie       100%  426.00000000        426       Ranchi_East\n",
      "5   1/2/2013      Shari  Silva (321)        Nestle Maxibon Cookie       200%  260.00000000        520      Mysore_South\n",
      "6   1/2/2013     Trevor  Jones (802)        Nestle Toffee Crumble       400%  285.00000000       1140         Pune_West\n"
     ]
    }
   ],
   "source": [
    "df.drop(index=[0,1],inplace=True)\n",
    "print(df.head().to_string())"
   ]
  },
  {
   "cell_type": "code",
   "execution_count": 27,
   "id": "8f2b75dc-a41d-45cc-b9e2-856cc6bd0013",
   "metadata": {},
   "outputs": [
    {
     "name": "stdout",
     "output_type": "stream",
     "text": [
      "       date               sales_rep                      product units         price total_sales              city\n",
      "2  1/1/2013     Isabel  Cross (903)        Nestle Aero Mint Potz  400%  495.00000000        1980       Ranchi_East\n",
      "3  1/2/2013  Cecilia  Manning (403)       Nestle Smarties Pop-Up  200%  438.00000000         876  Trivandrum_South\n",
      "4  1/2/2013     Isabel  Cross (705)        Nestle Maxibon Cookie  100%  426.00000000         426       Ranchi_East\n",
      "5  1/2/2013      Shari  Silva (321)        Nestle Maxibon Cookie  200%  260.00000000         520      Mysore_South\n",
      "6  1/2/2013     Trevor  Jones (802)        Nestle Toffee Crumble  400%  285.00000000        1140         Pune_West\n"
     ]
    }
   ],
   "source": [
    "df.columns=[\"date\",\"sales_rep\",\"product\",\"units\",\"price\",\"total_sales\",\"city\"]\n",
    "print(df.head().to_string())"
   ]
  },
  {
   "cell_type": "code",
   "execution_count": 37,
   "id": "48f2e689-84f2-44ea-a40d-8a91d494fa7d",
   "metadata": {},
   "outputs": [
    {
     "name": "stdout",
     "output_type": "stream",
     "text": [
      "date           object\n",
      "sales_rep      object\n",
      "product        object\n",
      "units          object\n",
      "price          object\n",
      "total_sales    object\n",
      "city           object\n",
      "dtype: object\n"
     ]
    }
   ],
   "source": [
    "print(df.dtypes)"
   ]
  },
  {
   "cell_type": "code",
   "execution_count": 28,
   "id": "95a6d9d2-afb5-4119-a123-cb21a85a5b46",
   "metadata": {},
   "outputs": [
    {
     "name": "stdout",
     "output_type": "stream",
     "text": [
      "       date          sales_rep                      product units         price total_sales              city\n",
      "2  1/1/2013     Isabel  Cross         Nestle Aero Mint Potz  400%  495.00000000        1980       Ranchi_East\n",
      "3  1/2/2013  Cecilia  Manning        Nestle Smarties Pop-Up  200%  438.00000000         876  Trivandrum_South\n",
      "4  1/2/2013     Isabel  Cross         Nestle Maxibon Cookie  100%  426.00000000         426       Ranchi_East\n",
      "5  1/2/2013      Shari  Silva         Nestle Maxibon Cookie  200%  260.00000000         520      Mysore_South\n",
      "6  1/2/2013     Trevor  Jones         Nestle Toffee Crumble  400%  285.00000000        1140         Pune_West\n"
     ]
    }
   ],
   "source": [
    "import re\n",
    "def reg(x):\n",
    "    return re.sub(r\"\\(\\d{3}\\)\",\"\",x)\n",
    "df[\"sales_rep\"]=df[\"sales_rep\"].apply(reg)\n",
    "print(df.head().to_string())"
   ]
  },
  {
   "cell_type": "code",
   "execution_count": 30,
   "id": "0cf2130b-a15a-41ee-b754-4b8e319ebbd5",
   "metadata": {},
   "outputs": [
    {
     "name": "stdout",
     "output_type": "stream",
     "text": [
      "       date          sales_rep                      product units         price total_sales              city\n",
      "2  1/1/2013     Isabel  Cross         Nestle Aero Mint Potz     4  495.00000000        1980       Ranchi_East\n",
      "3  1/2/2013  Cecilia  Manning        Nestle Smarties Pop-Up     2  438.00000000         876  Trivandrum_South\n",
      "4  1/2/2013     Isabel  Cross         Nestle Maxibon Cookie     1  426.00000000         426       Ranchi_East\n",
      "5  1/2/2013      Shari  Silva         Nestle Maxibon Cookie     2  260.00000000         520      Mysore_South\n",
      "6  1/2/2013     Trevor  Jones         Nestle Toffee Crumble     4  285.00000000        1140         Pune_West\n"
     ]
    }
   ],
   "source": [
    "def regg(x):\n",
    "    return re.sub(r\"00\\%\",\"\",x)\n",
    "df.units=df.units.apply(regg)\n",
    "print(df.head().to_string())"
   ]
  },
  {
   "cell_type": "code",
   "execution_count": 32,
   "id": "162a0a2e-f77c-459d-a2b2-6578768267e1",
   "metadata": {},
   "outputs": [
    {
     "name": "stdout",
     "output_type": "stream",
     "text": [
      "       date          sales_rep                      product units price total_sales              city\n",
      "2  1/1/2013     Isabel  Cross         Nestle Aero Mint Potz     4   495        1980       Ranchi_East\n",
      "3  1/2/2013  Cecilia  Manning        Nestle Smarties Pop-Up     2   438         876  Trivandrum_South\n",
      "4  1/2/2013     Isabel  Cross         Nestle Maxibon Cookie     1   426         426       Ranchi_East\n",
      "5  1/2/2013      Shari  Silva         Nestle Maxibon Cookie     2   260         520      Mysore_South\n",
      "6  1/2/2013     Trevor  Jones         Nestle Toffee Crumble     4   285        1140         Pune_West\n"
     ]
    }
   ],
   "source": [
    "def reggg(x):\n",
    "    return re.sub(r\"\\.\\d{8}\",\"\",x)\n",
    "df.price=df.price.apply(reggg)\n",
    "print(df.head().to_string())"
   ]
  },
  {
   "cell_type": "code",
   "execution_count": 38,
   "id": "31879136-6bfc-46d3-9016-c57d2438f0c2",
   "metadata": {
    "scrolled": true
   },
   "outputs": [
    {
     "name": "stdout",
     "output_type": "stream",
     "text": [
      "       date          sales_rep                      product units price total_sales        city\n",
      "2  1/1/2013     Isabel  Cross         Nestle Aero Mint Potz     4   495        1980      Ranchi\n",
      "3  1/2/2013  Cecilia  Manning        Nestle Smarties Pop-Up     2   438         876  Trivandrum\n",
      "4  1/2/2013     Isabel  Cross         Nestle Maxibon Cookie     1   426         426      Ranchi\n",
      "5  1/2/2013      Shari  Silva         Nestle Maxibon Cookie     2   260         520      Mysore\n",
      "6  1/2/2013     Trevor  Jones         Nestle Toffee Crumble     4   285        1140        Pune\n"
     ]
    }
   ],
   "source": [
    "def regggg(x):\n",
    "    return re.sub(r\"_[a-zA-Z]+\",\"\",x)\n",
    "df.city=df.city.apply(regggg)\n",
    "print(df.head().to_string())"
   ]
  },
  {
   "cell_type": "code",
   "execution_count": 40,
   "id": "729f7546-8484-4938-b0db-c92c4e9702a8",
   "metadata": {},
   "outputs": [
    {
     "name": "stdout",
     "output_type": "stream",
     "text": [
      "data cleaned successfully.....\n"
     ]
    }
   ],
   "source": [
    "df.to_csv(\"E:\\\\datasets\\\\cleaned_data.csv\",index=False)\n",
    "print(\"data cleaned successfully.....\")"
   ]
  },
  {
   "cell_type": "code",
   "execution_count": null,
   "id": "65e729ad-faf0-471e-9a19-d7350e529a51",
   "metadata": {},
   "outputs": [],
   "source": []
  }
 ],
 "metadata": {
  "kernelspec": {
   "display_name": "Python 3 (ipykernel)",
   "language": "python",
   "name": "python3"
  },
  "language_info": {
   "codemirror_mode": {
    "name": "ipython",
    "version": 3
   },
   "file_extension": ".py",
   "mimetype": "text/x-python",
   "name": "python",
   "nbconvert_exporter": "python",
   "pygments_lexer": "ipython3",
   "version": "3.12.6"
  }
 },
 "nbformat": 4,
 "nbformat_minor": 5
}
